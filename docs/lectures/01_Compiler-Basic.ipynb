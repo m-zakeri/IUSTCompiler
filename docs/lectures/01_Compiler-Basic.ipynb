{
 "cells": [
  {
   "cell_type": "markdown",
   "metadata": {},
   "source": [
    "# <center> Compiler Basic"
   ]
  },
  {
   "cell_type": "markdown",
   "metadata": {},
   "source": [
    "# <center><img src=\"pictures/compiler.jpg\" width=\"300\"/>"
   ]
  },
  {
   "cell_type": "markdown",
   "metadata": {},
   "source": [
    "\n",
    "## Compiler Formalization\n",
    "\n",
    "In compiler design, it's essential to precisely describe the input (source code) and output (machine code) of a compiler.\n",
    "\n",
    "**Input:** Source code (programming language)  \n",
    "**Output:** Assembly (machine) code\n",
    "\n",
    "## Describing Programming Language Syntax\n",
    "\n",
    "Programming languages have two crucial components: syntax and semantics.\n",
    "\n",
    "### Syntax\n",
    "\n",
    "Syntax defines which strings of symbols are valid expressions in the language.\n",
    "\n",
    "\n",
    "#### Example (C++):\n",
    "```cpp\n",
    "int z = 0;  // Valid statement\n",
    "std::cout << \"z+1=\" << z++ << std::endl;  // Valid statement\n",
    "```\n",
    "\n",
    "\n",
    "### Semantics\n",
    "\n",
    "Semantics defines the meaning or behavior of valid expressions.\n",
    "\n",
    "### Describing Syntax using BNF Grammar\n",
    "\n",
    "Backus-Naur Form (BNF) is a formal notation used to describe the syntax of programming languages.\n",
    "\n",
    "#### Example BNF Grammar:\n",
    "\n",
    "```bnf\n",
    "<Statement> ::= <AssignmentSt> | <ForST> | '{' <StatementList> '}' | 𝜖\n",
    "<AssignmentSt> ::= <Id> '=' <Exper>\n",
    "<ForST> ::= 'for' <Id> '=' <Expr> 'to' <Expr> <DoPart>\n",
    "<DoPart> ::= 'do' <Statement>\n",
    "<StatementList> ::= <Statement> ';' <StatementList> | <Statement>\n",
    "```\n",
    "\n",
    "## Compilation Steps\n",
    "\n",
    "Compiling a program involves several steps, and it's crucial to understand the process.\n",
    "\n",
    "1. **Intermediate Representations (IRs):**\n",
    "   - Compiler uses different program Intermediate Representations.\n",
    "   - These IRs facilitate necessary program manipulations (analysis, optimization, code generation).\n",
    "\n",
    "#### Example Compilation Steps in C++:\n",
    "\n",
    "```cpp\n",
    "#include <iostream>\n",
    "\n",
    "int main() {\n",
    "    int z = 0;\n",
    "    std::cout << \"z+1=\" << z++ << std::endl;\n",
    "    return 0;\n",
    "}\n",
    "```\n",
    "\n"
   ]
  },
  {
   "cell_type": "markdown",
   "metadata": {},
   "source": [
    "## Compiler Phases"
   ]
  },
  {
   "cell_type": "markdown",
   "metadata": {},
   "source": [
    "# <center><img src=\"pictures/compiler-phses.JPG\" width=\"800\"/>"
   ]
  },
  {
   "cell_type": "markdown",
   "metadata": {},
   "source": [
    "### Compiler Architecture:\n",
    "\n",
    "- **Parser:** Responsible for analyzing the syntactic structure of the source code and generating a parse tree or abstract syntax tree (AST).\n",
    "\n",
    "- **Scanner:** Tokenizes the source code, breaking it down into a sequence of tokens for the parser to analyze. \n",
    "\n",
    "- **Type Checker:** Ensures that the types of expressions and statements are consistent and adherent to the language's rules.\n",
    "\n",
    "- **Code Generators:** Translate the intermediate representation (IR) or AST into machine code or another target language.\n",
    "\n",
    "- **Error Manager:** Handles and reports errors that occur during the compilation process.\n",
    "\n",
    "\n",
    "\n",
    "\n",
    "> **Note:** The order of these components may vary depending on the specific compiler design\n",
    ">\n",
    "> **Note:** The parser acts as a \"driver\" in the compiler design, meaning it plays a central role in coordinating the compilation process.\n",
    ">\n",
    "> **Note:** It analyzes the syntax of the source code, constructs a hierarchical representation (such as a parse tree), and passes this structure to subsequent stages of the compiler."
   ]
  },
  {
   "cell_type": "markdown",
   "metadata": {},
   "source": [
    "### Steps in System Context:"
   ]
  },
  {
   "cell_type": "markdown",
   "metadata": {},
   "source": [
    "- **Preprocessing:** Expanding macros and collecting program sources.\n",
    "- **Compilation:** Parsing the preprocessed source code and generating an intermediate representation.\n",
    "- **Linking:** Joining together object files and resolving external references.\n",
    "- **Loading:** Mapping virtual addresses to physical address space."
   ]
  },
  {
   "cell_type": "markdown",
   "metadata": {},
   "source": [
    "\n",
    "## Compile Passes\n",
    "\n",
    "**Definition:**\n",
    "A compile pass is a stage in the compilation process where the source program undergoes transformations specified by its phases, producing intermediate output.\n",
    "\n",
    "- **Single-pass Compiler:** Scans the complete source code only once. Example: Pascal compiler.\n",
    "- **Multi-pass Compiler:** Processes the source code multiple times, improving the code pass by pass until the final pass emits the final code.\n",
    "\n",
    "## Compiler Errors\n",
    "\n",
    "A good compiler assists the programmer in locating and tracking down errors:\n",
    "\n",
    "- **Compile-time Errors:** Occur during program compilation.\n",
    "  - Lexical errors\n",
    "  - Syntactic errors\n",
    "  - Semantic errors\n",
    "\n",
    "- **Run-time Errors:** Occur while the program is running after being successfully compiled.\n",
    "  - Crashes\n",
    "  - Logical errors\n",
    "\n",
    "## Types of Errors in Compilers\n",
    "\n",
    "Common programming errors can occur at various levels:\n",
    "\n",
    "1. **Lexical Errors:** Misspellings of identifiers, keywords, or operators.\n",
    "2. **Syntactic Errors:** Misplaced semicolons, extra or missing braces.\n",
    "3. **Semantic Errors:** Type mismatches between operators and operands.\n",
    "4. **Logical Errors:** Incorrect reasoning by the programmer.\n",
    "\n",
    "## Error Recovery\n",
    "\n",
    "**Definition:**\n",
    "Error recovery is a process that takes action against errors to reduce negative effects as much as possible.\n",
    "\n",
    "Common error-recovery strategies for parser error handling:\n",
    "\n",
    "1. **Panic-mode**\n",
    "2. **Phrase-level**\n",
    "3. **Error-productions**\n",
    "4. **Global-correction**\n",
    "\n",
    "## Compiler Types\n",
    "\n",
    "- **Decompiler:** Translates from a low-level language to a higher-level one.\n",
    "- **Cross-compiler:** Produces code for a different `CPU` or operating system.\n",
    "- **Transpiler (Source-to-Source Compiler):** Translates between `high-level` languages.\n",
    "- **Bootstrap Compiler:** Temporary compiler used for compiling a more permanent or better-optimized compiler.\n",
    "- **Compiler-compiler:** Produces a compiler (or part of one) in a generic and reusable way (e.g., `ANTLR`, `FLEX`, `YACC`, `BISON`).\n"
   ]
  },
  {
   "cell_type": "markdown",
   "metadata": {},
   "source": [
    "#### **reminder Interpreter**\n",
    "\n",
    "An interpreter is another computer program like compiler that executes instructions written in a programming language immediately statement by statement."
   ]
  },
  {
   "cell_type": "markdown",
   "metadata": {},
   "source": [
    "## Just-In-Time (JIT) Compilation\n",
    "\n",
    "### Definition\n",
    "\n",
    "The JIT compiler, or dynamic translator, reads bytecodes (in a bytecode-compiled system) in many sections (or in full, rarely) and compiles them dynamically into machine code.\n",
    "\n",
    "- This can be done per-file, per-function, or even on any arbitrary code fragment.\n",
    "- As a result, the program can run faster.\n",
    "- Provides lazy/late compiling.\n",
    "- The code can be compiled when it is about to be executed and then cached and reused later without needing to be recompiled.\n",
    "\n",
    "### Advantages of JIT Compilation\n",
    "\n",
    "1. **Improved Performance:**\n",
    "   - JIT compilation can result in faster execution of the program since machine code is generated dynamically.\n",
    "\n",
    "2. **Lazy Compilation:**\n",
    "   - Compilation is deferred until the code is about to be executed. This allows for better optimization decisions based on runtime information.\n",
    "\n",
    "3. **Caching and Reuse:**\n",
    "   - Once code is compiled, it can be cached and reused in subsequent executions, reducing the need for repeated compilation.\n",
    "\n",
    "4. **Adaptability:**\n",
    "   - JIT compilation allows for adaptability to the runtime environment, optimizing the code based on the specific characteristics of the executing system.\n",
    "\n",
    "\n",
    "# <center><img src=\"pictures/JIT.JPG\" width=\"800\"/>\n",
    "\n",
    "\n",
    "\n",
    "Just-In-Time (JIT) compilation is a technique employed in the field of compiler design to enhance the runtime performance of programs. Unlike traditional ahead-of-time (AOT) compilation, where source code is translated into machine code before execution, JIT compilation occurs dynamically during program execution. This approach combines elements of interpretation and compilation, seeking to leverage the advantages of both.\n",
    "\n",
    "In JIT compilation, the source code is initially translated into an intermediate representation, often referred to as bytecode or an intermediate language. This intermediate code is not directly executed by the hardware but is designed to be more portable and platform-independent than the original source code.\n",
    "\n",
    "During runtime, as the program is executed, the JIT compiler analyzes the intermediate code and translates it into machine code that is specific to the underlying hardware architecture. This process occurs on-the-fly, just before the corresponding code is executed, hence the term \"just-in-time.\" The generated machine code is then executed directly by the hardware, resulting in potentially improved performance compared to interpreting the original source or intermediate code.\n",
    "\n",
    "\n",
    "\n",
    "### Use Cases\n",
    "\n",
    "- **Bytecode-Compiled Systems:**\n",
    "  - Commonly used in virtual machines that execute bytecode, such as Java Virtual Machine (JVM) or Common Language Runtime (CLR) in .NET.\n",
    "\n",
    "- **Execution Speed Optimization:**\n",
    "  - JIT compilation is employed to improve the execution speed of programs, especially in environments where interpretation of high-level code would be too slow.\n",
    "\n",
    "- **Memory Efficiency:**\n",
    "  - By compiling only the necessary portions of code during runtime, JIT compilation can contribute to more efficient memory usage.\n",
    "\n"
   ]
  },
  {
   "cell_type": "markdown",
   "metadata": {},
   "source": []
  }
 ],
 "metadata": {
  "kernelspec": {
   "display_name": "Python 3",
   "language": "python",
   "name": "python3"
  },
  "language_info": {
   "codemirror_mode": {
    "name": "ipython",
    "version": 3
   },
   "file_extension": ".py",
   "mimetype": "text/x-python",
   "name": "python",
   "nbconvert_exporter": "python",
   "pygments_lexer": "ipython3",
   "version": "3.10.6"
  }
 },
 "nbformat": 4,
 "nbformat_minor": 2
}
